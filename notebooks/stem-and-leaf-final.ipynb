{
 "cells": [
  {
   "cell_type": "code",
   "execution_count": 1,
   "metadata": {},
   "outputs": [],
   "source": [
    "import pandas as pd\n",
    "import sys\n",
    "import subprocess"
   ]
  },
  {
   "cell_type": "code",
   "execution_count": 2,
   "metadata": {},
   "outputs": [],
   "source": [
    "#Function for checking if player would like to continue\n",
    "def another_selection():\n",
    "    #Acceptable input list\n",
    "    yes_no = ['yes', 'no']\n",
    "    while True:\n",
    "        #Prompt user for selection\n",
    "        new_selection = input('Would you like make another selection?(yes or no)')\n",
    "        if new_selection.lower() not in yes_no:\n",
    "            print('Please input yes or no only...')\n",
    "        #If no, thank user and exit program\n",
    "        elif new_selection.lower() == 'no':\n",
    "            print('')\n",
    "            print('Thanks for checking out the program, bye!')\n",
    "            sys.exit(1)\n",
    "        #If yes, call selection()\n",
    "        elif new_selection.lower() == 'yes':\n",
    "            print('')\n",
    "            selection()\n",
    "            return None"
   ]
  },
  {
   "cell_type": "code",
   "execution_count": 34,
   "metadata": {},
   "outputs": [],
   "source": [
    "#Function for printing stem and leaf plot\n",
    "def stem(num):\n",
    "    #Create empty dictionary\n",
    "    dict = {}\n",
    "    #Import file from github given user input\n",
    "    file = pd.read_html('https://github.com/PixarJunkie/dsc-430-python-programming/blob/master/data/StemAndLeaf%d.txt' % (int(num)))\n",
    "    #Get file into usable list format\n",
    "    list_ = list(file[0][1])\n",
    "    list_ = [list(str(item)) for item in list_]\n",
    "\n",
    "    #Fill the dictionary\n",
    "    for line in list_:\n",
    "        #Set key, value from list_\n",
    "        key = ''.join(line[:len(line) - 1])\n",
    "        value = line[-1]\n",
    "        #If key doesn't exist yet, create it, and assign empty list for it's values\n",
    "        if key not in dict:\n",
    "            dict[key] = []\n",
    "        #Add values to lists for each key\n",
    "        dict[key].append(value)\n",
    "    #Title\n",
    "    print(\"\"\"   Stem and Leaf Plot\"\"\")\n",
    "    #Print stem and leaf plot\n",
    "    for k, v in dict.items():\n",
    "        #Print key: value while joining values and removing ','\n",
    "        print('{}: {}'.format(k, ''.join(v)))\n",
    "    #Prompt user for another selection or to quit\n",
    "    another_selection()\n",
    "    return None"
   ]
  },
  {
   "cell_type": "code",
   "execution_count": 33,
   "metadata": {},
   "outputs": [
    {
     "name": "stdout",
     "output_type": "stream",
     "text": [
      "   Stem and Leaf Plot\n",
      "3: 929\n",
      "7: 554222357\n",
      "5: 9453237553503425479\n",
      "6: 6562567\n",
      "13: 7157525371\n",
      "15: 268573058\n",
      "14: 7034162639125\n",
      "12: 653134587\n",
      "16: 20944\n",
      "8: 56\n",
      "4: 356728\n",
      "1: 8\n",
      "11: 199\n",
      "10: 1\n",
      "2: 88\n",
      "17: 2\n"
     ]
    }
   ],
   "source": [
    "num = 2\n",
    "dict = {}\n",
    "#Import file from github given user input\n",
    "file = pd.read_html('https://github.com/PixarJunkie/dsc-430-python-programming/blob/master/data/StemAndLeaf%d.txt' % (int(num)))\n",
    "#Get file into usable list format\n",
    "list_ = list(file[0][1])\n",
    "list_ = [list(str(item)) for item in list_]\n",
    "\n",
    "#Fill the dictionary\n",
    "for line in list_:\n",
    "    #Set key, value from list_\n",
    "    key = ''.join(line[:len(line) - 1])\n",
    "    value = line[-1]\n",
    "    #If key doesn't exist yet, create it, and assign empty list for it's values\n",
    "    if key not in dict:\n",
    "        dict[key] = []\n",
    "    #Add values to lists for each key\n",
    "    dict[key].append(value)\n",
    "#Title\n",
    "print(\"\"\"   Stem and Leaf Plot\"\"\")\n",
    "#Print stem and leaf plot\n",
    "for k, v in dict.items():\n",
    "    #Print key: value while joining values and removing ','\n",
    "    print('{}: {}'.format(k, ''.join(v)))"
   ]
  },
  {
   "cell_type": "code",
   "execution_count": 4,
   "metadata": {},
   "outputs": [],
   "source": [
    "#Selection function\n",
    "def selection():\n",
    "    #Acceptable input list\n",
    "    input_list = [1, 2, 3]\n",
    "    while True:\n",
    "        try:\n",
    "            #Greet user and ask for selection\n",
    "            user_num = input('Hello! I print out stem and leaf plots... Please select 1, 2, 3: ')\n",
    "            #If input is not accetable, reissue prompt\n",
    "            if int(user_num) not in input_list:\n",
    "                print('Please input 1, 2, or 3 only')\n",
    "            #If input is accetable, call stem() \n",
    "            elif int(user_num) in input_list:\n",
    "                stem(user_num)\n",
    "        #Catch ValueErrors\n",
    "        except ValueError:\n",
    "            print('Please input 1, 2, or 3 only')"
   ]
  },
  {
   "cell_type": "code",
   "execution_count": null,
   "metadata": {},
   "outputs": [
    {
     "name": "stdin",
     "output_type": "stream",
     "text": [
      "Hello! I print out stem and leaf plots... Please select 1, 2, 3:  2\n"
     ]
    },
    {
     "name": "stdout",
     "output_type": "stream",
     "text": [
      "   Stem and Leaf Plot\n",
      "3: 929\n",
      "7: 554222357\n",
      "5: 9453237553503425479\n",
      "6: 6562567\n",
      "13: 7157525371\n",
      "15: 268573058\n",
      "14: 7034162639125\n",
      "12: 653134587\n",
      "16: 20944\n",
      "8: 56\n",
      "4: 356728\n",
      "1: 8\n",
      "11: 199\n",
      "10: 1\n",
      "2: 88\n",
      "17: 2\n"
     ]
    },
    {
     "name": "stdin",
     "output_type": "stream",
     "text": [
      "Would you like make another selection?(yes or no) 3\n"
     ]
    },
    {
     "name": "stdout",
     "output_type": "stream",
     "text": [
      "Please input yes or no only...\n"
     ]
    },
    {
     "name": "stdin",
     "output_type": "stream",
     "text": [
      "Would you like make another selection?(yes or no) yes\n"
     ]
    },
    {
     "name": "stdout",
     "output_type": "stream",
     "text": [
      "\n"
     ]
    },
    {
     "name": "stdin",
     "output_type": "stream",
     "text": [
      "Hello! I print out stem and leaf plots... Please select 1, 2, 3:  3\n"
     ]
    },
    {
     "name": "stdout",
     "output_type": "stream",
     "text": [
      "   Stem and Leaf Plot\n",
      "106: 1906093101\n",
      "105: 70488165651769\n",
      "104: 85477550968664001083000\n",
      "107: 15095393\n",
      "108: 01605378\n",
      "100: 9\n",
      "109: 55980\n",
      "102: 5399\n",
      "103: 5252619574387127996\n",
      "101: 766447\n",
      "110: 2\n",
      "99: 8\n"
     ]
    }
   ],
   "source": [
    "selection()"
   ]
  },
  {
   "cell_type": "code",
   "execution_count": null,
   "metadata": {},
   "outputs": [],
   "source": []
  }
 ],
 "metadata": {
  "kernelspec": {
   "display_name": "Python 3",
   "language": "python",
   "name": "python3"
  },
  "language_info": {
   "codemirror_mode": {
    "name": "ipython",
    "version": 3
   },
   "file_extension": ".py",
   "mimetype": "text/x-python",
   "name": "python",
   "nbconvert_exporter": "python",
   "pygments_lexer": "ipython3",
   "version": "3.7.0"
  }
 },
 "nbformat": 4,
 "nbformat_minor": 2
}

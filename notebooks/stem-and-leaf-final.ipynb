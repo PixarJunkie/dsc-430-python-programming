{
 "cells": [
  {
   "cell_type": "code",
   "execution_count": 26,
   "metadata": {},
   "outputs": [],
   "source": [
    "import pandas as pd\n",
    "import sys\n",
    "import subprocess"
   ]
  },
  {
   "cell_type": "code",
   "execution_count": 18,
   "metadata": {},
   "outputs": [],
   "source": [
    "#Function for checking if player would like to continue\n",
    "def another_selection():\n",
    "    #Acceptable input list\n",
    "    yes_no = ['yes', 'no']\n",
    "    while True:\n",
    "        #Prompt user for selection\n",
    "        new_selection = input('Would you like make another selection?(yes or no)')\n",
    "        if new_selection.lower() not in yes_no:\n",
    "            print('Please input yes or no only...')\n",
    "        #If no, thank user and exit program\n",
    "        elif new_selection.lower() == 'no':\n",
    "            print('')\n",
    "            print('Thanks for checking out the program, bye!')\n",
    "            sys.exit(1)\n",
    "        #If yes, call selection()\n",
    "        elif new_selection.lower() == 'yes':\n",
    "            print('')\n",
    "            selection()\n",
    "            return None"
   ]
  },
  {
   "cell_type": "code",
   "execution_count": 24,
   "metadata": {},
   "outputs": [],
   "source": [
    "#Function for printing stem and leaf plot\n",
    "def stem(num):\n",
    "    #Create empty dictionary\n",
    "    dict = {}\n",
    "    #Import file from github given user input\n",
    "    file = pd.read_html('https://github.com/PixarJunkie/dsc-430-python-programming/blob/master/data/StemAndLeaf%d.txt' % (int(num)))\n",
    "    #Get file into usable list format\n",
    "    list_ = list(file[0][1])\n",
    "    list_ = [list(str(item)) for item in list_]\n",
    "\n",
    "    #Fill the dictionary\n",
    "    for line in list_:\n",
    "        #Set key, value from list_\n",
    "        key = line[0]\n",
    "        value = line[1]\n",
    "        #If key doesn't exist yet, create it, and assign empty list for it's values\n",
    "        if key not in dict:\n",
    "            dict[key] = []\n",
    "        #Add values to lists for each key\n",
    "        dict[key].append(value)\n",
    "    #Title\n",
    "    print(\"\"\"   Stem and Leaf Plot\"\"\")\n",
    "    #Print stem and leaf plot\n",
    "    for k, v in dict.items():\n",
    "        #Print key: value while joining values and removing ','\n",
    "        print('{}: {}'.format(k, ''.join(v)))\n",
    "    #Prompt user for another selection or to quit\n",
    "    another_selection()\n",
    "    return None"
   ]
  },
  {
   "cell_type": "code",
   "execution_count": 19,
   "metadata": {},
   "outputs": [],
   "source": [
    "#Selection function\n",
    "def selection():\n",
    "    #Acceptable input list\n",
    "    input_list = [1, 2, 3]\n",
    "    while True:\n",
    "        try:\n",
    "            #Greet user and ask for selection\n",
    "            user_num = input('Hello! I print out stem and leaf plots... Please select 1, 2, 3: ')\n",
    "            #If input is not accetable, reissue prompt\n",
    "            if int(user_num) not in input_list:\n",
    "                print('Please input 1, 2, or 3 only')\n",
    "            #If input is accetable, call stem() \n",
    "            elif int(user_num) in input_list:\n",
    "                stem(user_num)\n",
    "        #Catch ValueErrors\n",
    "        except ValueError:\n",
    "            print('Please input 1, 2, or 3 only')"
   ]
  },
  {
   "cell_type": "code",
   "execution_count": 25,
   "metadata": {},
   "outputs": [
    {
     "name": "stdin",
     "output_type": "stream",
     "text": [
      "Hello! I print out stem and leaf plots... Please select 1, 2, 3:  2\n"
     ]
    },
    {
     "name": "stdout",
     "output_type": "stream",
     "text": [
      "   Stem and Leaf Plot\n",
      "3: 929\n",
      "7: 554222357\n",
      "5: 9453237553503425479\n",
      "6: 6562567\n",
      "1: 3542264443845313023552422633142644531423356547464552\n",
      "8: 56\n",
      "4: 356728\n",
      "2: 88\n"
     ]
    },
    {
     "name": "stdin",
     "output_type": "stream",
     "text": [
      "Would you like make another selection?(yes or no) no\n"
     ]
    },
    {
     "name": "stdout",
     "output_type": "stream",
     "text": [
      "\n",
      "Thanks for checking out the program, bye!\n"
     ]
    },
    {
     "ename": "SystemExit",
     "evalue": "1",
     "output_type": "error",
     "traceback": [
      "An exception has occurred, use %tb to see the full traceback.\n",
      "\u001b[1;31mSystemExit\u001b[0m\u001b[1;31m:\u001b[0m 1\n"
     ]
    },
    {
     "name": "stderr",
     "output_type": "stream",
     "text": [
      "C:\\Users\\mq814d\\AppData\\Local\\Continuum\\anaconda3\\lib\\site-packages\\IPython\\core\\interactiveshell.py:2971: UserWarning: To exit: use 'exit', 'quit', or Ctrl-D.\n",
      "  warn(\"To exit: use 'exit', 'quit', or Ctrl-D.\", stacklevel=1)\n"
     ]
    }
   ],
   "source": [
    "selection()"
   ]
  },
  {
   "cell_type": "code",
   "execution_count": null,
   "metadata": {},
   "outputs": [],
   "source": []
  }
 ],
 "metadata": {
  "kernelspec": {
   "display_name": "Python 3",
   "language": "python",
   "name": "python3"
  },
  "language_info": {
   "codemirror_mode": {
    "name": "ipython",
    "version": 3
   },
   "file_extension": ".py",
   "mimetype": "text/x-python",
   "name": "python",
   "nbconvert_exporter": "python",
   "pygments_lexer": "ipython3",
   "version": "3.6.5"
  }
 },
 "nbformat": 4,
 "nbformat_minor": 2
}

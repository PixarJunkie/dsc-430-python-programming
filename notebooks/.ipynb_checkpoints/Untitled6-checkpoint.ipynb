{
 "cells": [
  {
   "cell_type": "code",
   "execution_count": 70,
   "metadata": {},
   "outputs": [],
   "source": [
    "import random\n",
    "import sys\n",
    "\n",
    "potential_words = ['math', 'taxi', 'bump', 'debt', 'sale', 'give', 'whale', 'time', 'test', 'apple', 'banana', 'monkey', 'hello', 'mail', 'vile']\n",
    "target_word = random.choice(potential_words)\n",
    "potential_words.remove(target_word)\n",
    "given_word = random.choice(potential_words)\n",
    "yes_no = ['yes', 'no']\n",
    "bef_aft = ['before', 'after']\n",
    "n = 1"
   ]
  },
  {
   "cell_type": "code",
   "execution_count": 82,
   "metadata": {},
   "outputs": [],
   "source": [
    "lst = 'hello'\n",
    "ind = 2"
   ]
  },
  {
   "cell_type": "code",
   "execution_count": 83,
   "metadata": {},
   "outputs": [],
   "source": [
    "lst = lst[:ind + 1] + 'a' + lst[ind + 1:]"
   ]
  },
  {
   "cell_type": "code",
   "execution_count": 84,
   "metadata": {},
   "outputs": [
    {
     "data": {
      "text/plain": [
       "'helalo'"
      ]
     },
     "execution_count": 84,
     "metadata": {},
     "output_type": "execute_result"
    }
   ],
   "source": [
    "lst"
   ]
  },
  {
   "cell_type": "code",
   "execution_count": 68,
   "metadata": {},
   "outputs": [
    {
     "data": {
      "text/plain": [
       "'mail'"
      ]
     },
     "execution_count": 68,
     "metadata": {},
     "output_type": "execute_result"
    }
   ],
   "source": [
    "given_word"
   ]
  },
  {
   "cell_type": "code",
   "execution_count": 69,
   "metadata": {},
   "outputs": [
    {
     "name": "stdout",
     "output_type": "stream",
     "text": [
      "\n",
      "Your current word is mail and your target word is test. You are on step1\n",
      "What would you like to do?: \n",
      "a: Remove \n",
      "b: Replace \n",
      "c: Insert \n",
      "\n"
     ]
    },
    {
     "name": "stdin",
     "output_type": "stream",
     "text": [
      "Please choose a, b, or c:  b\n"
     ]
    },
    {
     "name": "stdout",
     "output_type": "stream",
     "text": [
      "\n"
     ]
    },
    {
     "name": "stdin",
     "output_type": "stream",
     "text": [
      "Which index would you like to replace? (please input an index only):[(0, 'm'), (1, 'a'), (2, 'i'), (3, 'l')] 0\n",
      "What letter would you like to repalce it with? (please use a single letter only): t\n"
     ]
    },
    {
     "name": "stdout",
     "output_type": "stream",
     "text": [
      "\n",
      "You have replaced m with t leaving you with tail.\n",
      "\n"
     ]
    },
    {
     "name": "stdin",
     "output_type": "stream",
     "text": [
      "Your current word is tail and your target word is test. You are going to be on step 2 . Would you like to keep going?(yes or no):  yes\n"
     ]
    },
    {
     "name": "stdout",
     "output_type": "stream",
     "text": [
      "\n",
      "\n",
      "Your current word is tail and your target word is test. You are on step2\n",
      "What would you like to do?: \n",
      "a: Remove \n",
      "b: Replace \n",
      "c: Insert \n",
      "\n"
     ]
    },
    {
     "name": "stdin",
     "output_type": "stream",
     "text": [
      "Please choose a, b, or c:  b\n"
     ]
    },
    {
     "name": "stdout",
     "output_type": "stream",
     "text": [
      "\n"
     ]
    },
    {
     "name": "stdin",
     "output_type": "stream",
     "text": [
      "Which index would you like to replace? (please input an index only):[(0, 't'), (1, 'a'), (2, 'i'), (3, 'l')] 1\n",
      "What letter would you like to repalce it with? (please use a single letter only): e\n"
     ]
    },
    {
     "name": "stdout",
     "output_type": "stream",
     "text": [
      "\n",
      "You have replaced a with e leaving you with teil.\n",
      "\n"
     ]
    },
    {
     "name": "stdin",
     "output_type": "stream",
     "text": [
      "Your current word is teil and your target word is test. You are going to be on step 3 . Would you like to keep going?(yes or no):  yes\n"
     ]
    },
    {
     "name": "stdout",
     "output_type": "stream",
     "text": [
      "\n",
      "\n",
      "Your current word is teil and your target word is test. You are on step3\n",
      "What would you like to do?: \n",
      "a: Remove \n",
      "b: Replace \n",
      "c: Insert \n",
      "\n"
     ]
    },
    {
     "name": "stdin",
     "output_type": "stream",
     "text": [
      "Please choose a, b, or c:  b\n"
     ]
    },
    {
     "name": "stdout",
     "output_type": "stream",
     "text": [
      "\n"
     ]
    },
    {
     "name": "stdin",
     "output_type": "stream",
     "text": [
      "Which index would you like to replace? (please input an index only):[(0, 't'), (1, 'e'), (2, 'i'), (3, 'l')] 2\n",
      "What letter would you like to repalce it with? (please use a single letter only): s\n"
     ]
    },
    {
     "name": "stdout",
     "output_type": "stream",
     "text": [
      "\n",
      "You have replaced i with s leaving you with tesl.\n",
      "\n"
     ]
    },
    {
     "name": "stdin",
     "output_type": "stream",
     "text": [
      "Your current word is tesl and your target word is test. You are going to be on step 4 . Would you like to keep going?(yes or no):  yes\n"
     ]
    },
    {
     "name": "stdout",
     "output_type": "stream",
     "text": [
      "\n",
      "\n",
      "Your current word is tesl and your target word is test. You are on step4\n",
      "What would you like to do?: \n",
      "a: Remove \n",
      "b: Replace \n",
      "c: Insert \n",
      "\n"
     ]
    },
    {
     "name": "stdin",
     "output_type": "stream",
     "text": [
      "Please choose a, b, or c:  b\n"
     ]
    },
    {
     "name": "stdout",
     "output_type": "stream",
     "text": [
      "\n"
     ]
    },
    {
     "name": "stdin",
     "output_type": "stream",
     "text": [
      "Which index would you like to replace? (please input an index only):[(0, 't'), (1, 'e'), (2, 's'), (3, 'l')] 3\n",
      "What letter would you like to repalce it with? (please use a single letter only): t\n"
     ]
    },
    {
     "name": "stdout",
     "output_type": "stream",
     "text": [
      "\n",
      "Congrats, you won in 5 steps! Exiting game...\n"
     ]
    },
    {
     "ename": "SystemExit",
     "evalue": "1",
     "output_type": "error",
     "traceback": [
      "An exception has occurred, use %tb to see the full traceback.\n",
      "\u001b[1;31mSystemExit\u001b[0m\u001b[1;31m:\u001b[0m 1\n"
     ]
    },
    {
     "name": "stderr",
     "output_type": "stream",
     "text": [
      "C:\\Users\\mq814d\\AppData\\Local\\Continuum\\anaconda3\\lib\\site-packages\\IPython\\core\\interactiveshell.py:2971: UserWarning: To exit: use 'exit', 'quit', or Ctrl-D.\n",
      "  warn(\"To exit: use 'exit', 'quit', or Ctrl-D.\", stacklevel=1)\n"
     ]
    }
   ],
   "source": [
    "choice(given_word, target_word, n)"
   ]
  },
  {
   "cell_type": "code",
   "execution_count": 64,
   "metadata": {},
   "outputs": [],
   "source": [
    "#Function for checking if player would like to continue\n",
    "def keep_going(current, target, step):\n",
    "    while True:\n",
    "        print('')\n",
    "        keep_going = input('Your current word is ' + current + ' and your target word is ' + target + '. You are going to be on step' + ' ' + str(step) + ' . Would you like to keep going?(yes or no): ')\n",
    "        if keep_going.lower() not in yes_no:\n",
    "            print('Please input yes or no only...')\n",
    "        #if no then print final amount and exit program\n",
    "        elif keep_going.lower() == 'no':\n",
    "            print('')\n",
    "            print('Sorry, you did not win the game. Thanks for playing!')\n",
    "            sys.exit(1)\n",
    "        #if yes, call choice() with current word\n",
    "        elif keep_going.lower() == 'yes':\n",
    "            print('')\n",
    "            choice(current, target, step)\n",
    "            return None"
   ]
  },
  {
   "cell_type": "code",
   "execution_count": 60,
   "metadata": {},
   "outputs": [],
   "source": [
    "def selection(word_, target_, step_, choice_):\n",
    "    if choice_ == 'a':\n",
    "        while True:\n",
    "            print('')\n",
    "            remove = input('Which index would you like to remove? (please input an index only):' + str([x for x in enumerate(word_)]))\n",
    "            try:\n",
    "                if int(remove) not in [x[0] for x in [i for i in enumerate(word_)]]:\n",
    "                    print('Please input an index only..')\n",
    "                else:\n",
    "                    removed_letter = word_[int(remove)]\n",
    "                    word_ = word_[:int(remove)] + word_[int(remove) + 1:]\n",
    "                    step_ += 1\n",
    "                    if word_ == target_:\n",
    "                        print('')\n",
    "                        print('Congrats, you won in ' + str(step_) + ' steps! Exiting game...')\n",
    "                        sys.exit(1)\n",
    "                    else:\n",
    "                        print('')\n",
    "                        print('You have removed ' + removed_letter + ' from the word, leaving you with ' + word_ + '.')\n",
    "                        keep_going(word_, target_, step_)\n",
    "            except ValueError: \n",
    "                print('Please input an index only..')\n",
    "    elif choice_ == 'b': \n",
    "            while True:\n",
    "                print('')\n",
    "                try:\n",
    "                    replace_index = input('Which index would you like to replace? (please input an index only):' + str([x for x in enumerate(word_)]))\n",
    "                    if int(replace_index) not in [x[0] for x in [i for i in enumerate(word_)]]:\n",
    "                        print('Please input an index only..')\n",
    "                    else:\n",
    "                        letter = word_[int(replace_index)]\n",
    "                except ValueError: \n",
    "                    print('Please input an index only..')\n",
    "                while True:\n",
    "                    replace_letter = input('What letter would you like to repalce it with? (please use a single letter only):')\n",
    "                    if replace_letter.isalpha() == False or len(replace_letter) > 1: \n",
    "                        print('Please use a single letter only')\n",
    "                    else:\n",
    "                        word_ = word_[:int(replace_index)] + replace_letter.lower() + word_[int(replace_index) + 1:]\n",
    "                        step_ += 1\n",
    "                        if word_ == target_:\n",
    "                            print('')\n",
    "                            print('Congrats, you won in ' + str(step_) + ' steps! Exiting game...')\n",
    "                            sys.exit(1)\n",
    "                        else:\n",
    "                            print('')\n",
    "                            print('You have replaced ' + letter + ' with ' + replace_letter + ' leaving you with ' + word_ + '.')\n",
    "                            keep_going(word_, target_, step_)\n",
    "    elif choice == 'c':\n",
    "        while True:\n",
    "            print('')\n",
    "            try:\n",
    "                insert_index = input('Which index would you like to replace? (please input an index only):' + str([x for x in enumerate(word_)]))\n",
    "                if int(insert_index) not in [x[0] for x in [i for i in enumerate(word_)]]:\n",
    "                    print('Please input an index only..')\n",
    "                else:\n",
    "                    letter = word_[int(replace_index)]\n",
    "            except ValueError: \n",
    "                print('Please input an index only..')\n",
    "        while True:\n",
    "            print('')\n",
    "            try:\n",
    "                before_after = input('Would you like to insert a letter before or after' + ' ' + letter + '? (please input before or after only)')\n",
    "                if before_after not in bef_aft:\n",
    "                    print('Please input before or after only..')\n",
    "            except ValueError: \n",
    "                print('Please input an index only..')\n",
    "        while True:\n",
    "            insert_letter = input('What would you like to insert ' + before_after + ' ' + letter + '? (please use a single letter only):')\n",
    "            if insert_letter.isalpha() == False or len(insert_letter) > 1: \n",
    "                print('Please use a single letter only')\n",
    "        if before_or_after == 'before':\n",
    "            word_ = word_[:int(insert_index)] + insert_letter + word_[int(insert_index):]\n",
    "        if before_or_after == 'after':\n",
    "            word_ = word_[:int(insert_index) + 1] + insert_letter + word_[int(insert_index) + 1:]\n",
    "        print('You inserted a ' + ' ' + insert_letter + ' ' + before_or_after + ' ' + current_letter + ' ' + 'leaving you with' + ' ' + word_)\n",
    "        step_ += 1\n",
    "        if word_ == target_:\n",
    "            print('')\n",
    "            print('Congrats, you won in ' + str(step_) + ' steps! Exiting game...')\n",
    "            sys.exit(1)\n",
    "        else:\n",
    "            print('')\n",
    "            print('You have removed ' + removed_letter + ' from the word, leaving you with ' + word_ + '.')\n",
    "            keep_going(word_, target_, step_) "
   ]
  },
  {
   "cell_type": "code",
   "execution_count": 24,
   "metadata": {},
   "outputs": [],
   "source": [
    "def choice(current_word, target, step):\n",
    "        choices = ['a', 'b', 'c']\n",
    "        \n",
    "        print('')\n",
    "        print('Your current word is ' + current_word + ' and your target word is ' + target + '. You are on step' + str(step))\n",
    "        print('What would you like to do?: ')\n",
    "        print('a: Remove ')\n",
    "        print('b: Replace ')\n",
    "        print('c: Insert ')\n",
    "        print('')        \n",
    "\n",
    "        while True:\n",
    "            choice = input('Please choose a, b, or c: ')\n",
    "            if choice.isalpha() == False: \n",
    "                print('Please input a, b, or c only')\n",
    "            elif choice.lower() not in choices:\n",
    "                print('Please input a, b, or c only')\n",
    "            else:\n",
    "                choice = choice.lower()\n",
    "                selection(current_word, target, step, choice)\n",
    "        return None"
   ]
  },
  {
   "cell_type": "code",
   "execution_count": null,
   "metadata": {},
   "outputs": [],
   "source": [
    "def name():\n",
    "#First name\n",
    "    while True:\n",
    "        f_name = input(\"What is your first name? \")\n",
    "        #Validate that input contains letters only\n",
    "        if f_name.isalpha() == False:\n",
    "            print(\"I wasn't born yesterday, try again..\") \n",
    "        #Break while loop if .isalpha() == True\n",
    "        else:\n",
    "            return f_name   \n",
    "#Last Name\n",
    "    while True:\n",
    "        l_name = input(\"What is your last name? \")\n",
    "        #Validate that input contains letters only\n",
    "        if l_name.isalpha() == False:\n",
    "            print(\"I wasn't born yesterday, try again..\") \n",
    "        else:\n",
    "            return l_name\n",
    "    game(f_name, l_name)"
   ]
  },
  {
   "cell_type": "code",
   "execution_count": null,
   "metadata": {},
   "outputs": [],
   "source": []
  }
 ],
 "metadata": {
  "kernelspec": {
   "display_name": "Python 3",
   "language": "python",
   "name": "python3"
  },
  "language_info": {
   "codemirror_mode": {
    "name": "ipython",
    "version": 3
   },
   "file_extension": ".py",
   "mimetype": "text/x-python",
   "name": "python",
   "nbconvert_exporter": "python",
   "pygments_lexer": "ipython3",
   "version": "3.6.5"
  }
 },
 "nbformat": 4,
 "nbformat_minor": 2
}

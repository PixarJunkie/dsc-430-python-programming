{
 "cells": [
  {
   "cell_type": "code",
   "execution_count": 1,
   "metadata": {},
   "outputs": [],
   "source": [
    "import pandas as pd\n",
    "import statistics as stats\n",
    "import csv\n",
    "import sys\n",
    "from math import sqrt"
   ]
  },
  {
   "cell_type": "code",
   "execution_count": 2,
   "metadata": {},
   "outputs": [],
   "source": [
    "yes_no = ['yes', 'no']\n",
    "stat_list = ['mean', 'median', 'sd', 'hmean', 'hmedian', 'hsd']\n",
    "file_path = r'/Users/abbychinn/Desktop/KB/dsc-430-python-programming/data/avocado.csv'\n",
    "special_columns = ['date', 'year', 'type', 'region']"
   ]
  },
  {
   "cell_type": "code",
   "execution_count": 3,
   "metadata": {},
   "outputs": [],
   "source": [
    "def keep_going():\n",
    "    while True:\n",
    "        cont_ = input('Would you like to start over?(yes or no): ')\n",
    "        if cont_.lower() not in yes_no:\n",
    "            print('Please input yes or no only')\n",
    "        elif cont_.lower() == 'no':\n",
    "            print('')\n",
    "            print('Thanks, have a nice day!')\n",
    "            sys.exit(1)\n",
    "        elif cont_.lower() == 'yes':\n",
    "            column_select()\n",
    "            return None"
   ]
  },
  {
   "cell_type": "code",
   "execution_count": 4,
   "metadata": {},
   "outputs": [],
   "source": [
    "def column_select():\n",
    "    \n",
    "    def stat(stat_selection, data, column_title):\n",
    "        if stat_selection == 'mean':\n",
    "            try:\n",
    "                if column_title in special_columns:\n",
    "                    mean_ = data.groupby(['%s' % column_title])['%s' % column_title].count().mean()\n",
    "                    print('That is a date or categorical column so a mean is not available, but the mean value count of' + ' ' + column_title + ' ' + 'is' + ' ' + str(mean_))\n",
    "                elif column_title not in special_columns:    \n",
    "                    print('The mean of' + ' ' + column_title + ' ' + 'is' + ' ' + str(stats.mean(data)))\n",
    "            except TypeError:\n",
    "                mean_ = data.groupby(['%s' % column_title])['%s' % column_title].count().mean()\n",
    "                print('The mean of' + ' ' + column_title + ' ' + 'is' + ' ' + str(mean_))\n",
    "            keep_going()\n",
    "        elif stat_selection == 'hmean':\n",
    "            try:\n",
    "                if column_title in special_columns:\n",
    "                    print('sorry there is no homegrown mean for date or categorical columns.')\n",
    "                elif column_title not in special_columns:\n",
    "                    sum_ = 0\n",
    "                    for value in list(df['%s' %(column_title)]):\n",
    "                        sum_ += int(value)\n",
    "                    hmean_ = sum_/len(data)\n",
    "                    print('The mean of' + ' ' + column_title + ' ' + 'is' + ' ' + str(hmean_))\n",
    "            except TypeError:\n",
    "                mean_ = data.groupby(['%s' % column_title])['%s' % column_title].count().mean()\n",
    "                print('The mean of' + ' ' + column_title + ' ' + 'is' + ' ' + str(mean_))\n",
    "            keep_going()\n",
    "        elif stat_selection == 'median':\n",
    "            median_ = stats.median(data['%s' %(column_title)])\n",
    "            try:\n",
    "                if column_title in special_columns:\n",
    "                    print('The median value of' + ' ' + column_title + ' ' + 'is' + ' ' + str(median_))\n",
    "                elif column_title not in special_columns:\n",
    "                    print('The median of' + ' ' + column_title + ' ' + 'is' + ' ' +  str(median_))\n",
    "            except TypeError:\n",
    "                median_ = data.groupby(['%s' % column_title])['%s' % column_title].count().median()\n",
    "                print('The median of' + ' ' + column_title + ' ' + 'is' + ' ' + str(median_))\n",
    "            keep_going()\n",
    "        elif stat_selection == 'sd':\n",
    "            try:\n",
    "                if column_title in special_columns:\n",
    "                    print('Sorry, that is a date or categorical column so the standard deviation is not computable...')\n",
    "                    keep_going()\n",
    "                elif column_title not in special_columns:\n",
    "                    print('The stadard deviation of' + ' ' + column_title + ' ' + 'is' + ' ' + str(stats.stdev(data['%s' %(column_title)])))\n",
    "            except TypeError:\n",
    "                sd_ = data.groupby(['%s' % column_title])['%s' % column_title].count().std()\n",
    "                print('The stnadard deviation of' + ' ' + column_title + ' ' + 'is' + ' ' + str(sd_))\n",
    "            keep_going()\n",
    "            return None\n",
    "    \n",
    "    #Get column titles\n",
    "    with open (file_path) as file:\n",
    "        reader = csv.reader(file)\n",
    "        column_labels = next(reader)\n",
    "        column_labels = [x.lower() for x in column_labels]\n",
    "        print('\\033[1m' + \"\"\"Columns\"\"\" + '\\033[1m')\n",
    "        print('\\n'.join(column_labels))\n",
    "    while True:\n",
    "        try:\n",
    "            column_name = input('Please input a column name from the list above: ')\n",
    "            column_name = column_name.lower()\n",
    "            if column_name not in column_labels:\n",
    "                print('That column does not exist..')\n",
    "            else:\n",
    "                while True: \n",
    "                    correct_column = input('You have selected' + ' ' + column_name + ' ' + 'is that correct?(yes or no): ')\n",
    "                    if correct_column.lower() not in yes_no:\n",
    "                                print('Please input yes or no only...')\n",
    "                    elif correct_column.lower() == 'no':\n",
    "                        column_select()\n",
    "                    elif correct_column.lower() == 'yes':\n",
    "                        with open(file_path) as file_:\n",
    "                            file_.readline()\n",
    "                            data = []\n",
    "                            for row in file_: \n",
    "                                data.append(row.split(',')[column_labels.index('%s' % (column_name))])\n",
    "                                #data.remove(data[0])\n",
    "                            df = pd.DataFrame(data, columns = ['%s' %(column_name)])\n",
    "                        #df.columns = map(str.lower, df.columns)\n",
    "                        print('')\n",
    "                        while True:\n",
    "                            stat_select = input(\"\"\"Which stat would you like to compute?:                            \n",
    "1. mean\n",
    "2. median\n",
    "3. standard deviation (sd)\n",
    "4. homegrown mean (hmean)\n",
    "5. homegrown median (hmedian)\n",
    "6. homegrown standard deviation (hsd)\n",
    "\n",
    "Please only input mean, median, sd, hmean, hmedian, or hsd only.\"\"\")\n",
    "                                                \n",
    "                            if stat_select not in stat_list:\n",
    "                                print('Please input mean, median, sd, hmean, hmedian, or hsd only...')\n",
    "                            elif stat_select == 'sd':\n",
    "                                stat(stat_select, df, column_name)\n",
    "                            elif stat_select == 'hmean':\n",
    "                                stat(stat_select, df, column_name)\n",
    "                            elif stat_select in stat_list:\n",
    "                                stat(stat_select, df, column_name)\n",
    "        except ValueError: \n",
    "            print('That column does not exist...')\n",
    "            return None"
   ]
  },
  {
   "cell_type": "code",
   "execution_count": 5,
   "metadata": {},
   "outputs": [
    {
     "name": "stdout",
     "output_type": "stream",
     "text": [
      "\u001b[1mColumns\u001b[1m\n",
      "id\n",
      "date\n",
      "averageprice\n",
      "total volume\n",
      "4046\n",
      "4225\n",
      "4770\n",
      "total bags\n",
      "small bags\n",
      "large bags\n",
      "xlarge bags\n",
      "type\n",
      "year\n",
      "region\n"
     ]
    },
    {
     "name": "stdin",
     "output_type": "stream",
     "text": [
      "Please input a column name from the list above:  total_volume\n"
     ]
    },
    {
     "name": "stdout",
     "output_type": "stream",
     "text": [
      "That column does not exist..\n"
     ]
    },
    {
     "name": "stdin",
     "output_type": "stream",
     "text": [
      "Please input a column name from the list above:  total volume\n",
      "You have selected total volume is that correct?(yes or no):  yes\n"
     ]
    },
    {
     "name": "stdout",
     "output_type": "stream",
     "text": [
      "\n"
     ]
    },
    {
     "name": "stdin",
     "output_type": "stream",
     "text": [
      "Which stat would you like to compute?:                            \n",
      "1. mean\n",
      "2. median\n",
      "3. standard deviation (sd)\n",
      "4. homegrown mean (hmean)\n",
      "5. homegrown median (hmedian)\n",
      "6. homegrown standard deviation (hsd)\n",
      "\n",
      "Please only input mean, median, sd, hmean, hmedian, or hsd only. sd\n"
     ]
    },
    {
     "name": "stdout",
     "output_type": "stream",
     "text": [
      "The stnadard deviation of total volume is 0.025643830681288872\n"
     ]
    },
    {
     "name": "stdin",
     "output_type": "stream",
     "text": [
      "Would you like to start over?(yes or no):  no\n"
     ]
    },
    {
     "name": "stdout",
     "output_type": "stream",
     "text": [
      "\n",
      "Thanks, have a nice day!\n"
     ]
    },
    {
     "ename": "SystemExit",
     "evalue": "1",
     "output_type": "error",
     "traceback": [
      "An exception has occurred, use %tb to see the full traceback.\n",
      "\u001b[0;31mSystemExit\u001b[0m\u001b[0;31m:\u001b[0m 1\n"
     ]
    },
    {
     "name": "stderr",
     "output_type": "stream",
     "text": [
      "/anaconda3/lib/python3.7/site-packages/IPython/core/interactiveshell.py:2969: UserWarning: To exit: use 'exit', 'quit', or Ctrl-D.\n",
      "  warn(\"To exit: use 'exit', 'quit', or Ctrl-D.\", stacklevel=1)\n"
     ]
    }
   ],
   "source": [
    "def memory_less():\n",
    "    with open (file_path) as file:\n",
    "        reader = csv.reader(file)\n",
    "        column_labels = next(reader)\n",
    "        column_labels = [x.lower() for x in column_labels]\n",
    "        print('\\033[1m' + \"\"\"Columns\"\"\" + '\\033[1m')\n",
    "        print('\\n'.join(column_labels))\n",
    "    while True:\n",
    "        try:\n",
    "            column_name = input('Please input a column name from the list above: ')\n",
    "            column_name = column_name.lower()\n",
    "            if column_name not in column_labels:\n",
    "                print('That column does not exist..')\n",
    "            else:\n",
    "                while True: \n",
    "                    correct_column = input('You have selected' + ' ' + column_name + ' ' + 'is that correct?(yes or no): ')\n",
    "                    if correct_column.lower() not in yes_no:\n",
    "                                print('Please input yes or no only...')\n",
    "                    elif correct_column.lower() == 'no':\n",
    "                        column_select()\n",
    "                    elif correct_column.lower() == 'yes':\n",
    "                        print('')\n",
    "                        while True:\n",
    "                            stat_select = input(\"\"\"Which stat would you like to compute?:                            \n",
    "1. mmean\n",
    "2. mmedian\n",
    "3. standard deviation (msd)\n",
    "\n",
    "Please only input mean, median, or sd only.\"\"\")\n",
    "                                                \n",
    "                            if stat_select not in stat_list:\n",
    "                                print('Please input mmean, mmedian, or msd only...')"
   ]
  },
  {
   "cell_type": "code",
   "execution_count": 8,
   "metadata": {},
   "outputs": [],
   "source": [
    "def column_select():\n",
    "    \n",
    "    def stat(stat_selection, data, column_title):\n",
    "        if stat_selection == 'mean':\n",
    "            if column_title in special_columns:\n",
    "                df = pd.DataFrame(data, columns = ['%s' %(column_title)])\n",
    "                mean_ = df.groupby(['%s' % column_title])['%s' % column_title].count().mean()\n",
    "                print('That is a date or categorical column so a mean is not available, but the mean value count of' + ' ' + column_title + ' ' + 'is' + ' ' + str(mean_))\n",
    "            elif column_title not in special_columns:\n",
    "                data = [float(x) for x in data]\n",
    "                print('The mean of' + ' ' + column_title + ' ' + 'is' + ' ' + str(stats.mean(data)))\n",
    "            keep_going()\n",
    "        elif stat_selection == 'hmean':\n",
    "            if column_title in special_columns:\n",
    "                print('Sorry there is no homegrown mean for date or categorical columns.')\n",
    "            elif column_title not in special_columns:\n",
    "                sum_ = sum([float(x) for x in data])\n",
    "                hmean_ = sum_ / len(data)\n",
    "                print('The mean of' + ' ' + column_title + ' ' + 'is' + ' ' + str(hmean_))\n",
    "            keep_going()\n",
    "        elif stat_selection == 'mmean':\n",
    "            \n",
    "        if stat_selection == 'median':\n",
    "            df = pd.DataFrame(data, columns = ['%s' %(column_title)])\n",
    "            median_ = stats.median(df['%s' %(column_title)])\n",
    "            try:\n",
    "                if column_title in special_columns:\n",
    "                    print('The median value of' + ' ' + column_title + ' ' + 'is' + ' ' + str(median_))\n",
    "                    keep_going()\n",
    "                elif column_title not in special_columns:\n",
    "                    print('The median of' + ' ' + column_title + ' ' + 'is' + ' ' +  str(median_))\n",
    "                    keep_going()\n",
    "            except TypeError:\n",
    "                median_ = data.groupby(['%s' % column_title])['%s' % column_title].count().median()\n",
    "                print('The median of' + ' ' + column_title + ' ' + 'is' + ' ' + str(median_))\n",
    "                keep_going()\n",
    "        elif stat_selection == 'hmedian':\n",
    "            sorted_ = sorted(data)\n",
    "            index_ = int((len(data) - 1) / 2)\n",
    "            if column_title in special_columns:\n",
    "                if len(data) % 2 == 0:\n",
    "                    hmedian_ = sorted_[index_]\n",
    "                    print('The median value of' + ' ' + column_title + ' ' + 'is' + ' ' + str(hmedian_))\n",
    "                    keep_going()\n",
    "                else:\n",
    "                    hmedian_1 = sorted_[index_] \n",
    "                    hmedian_2 = sorted_[index_ + 1]\n",
    "                    if hmedian_1 == hmedian_2:\n",
    "                        print('The median value of' + ' ' + column_title + ' ' + 'is' + ' ' + str(hmedian_1))\n",
    "                    else:\n",
    "                        print('The median values of' + ' ' + column_title + ' ' + 'are' + ' ' + str(hmedian_1) + ' ' + 'and' + ' ' + str(hmedian_2))\n",
    "                    keep_going()\n",
    "            elif column_title not in special_columns:\n",
    "                if len(data) % 2 == 1:\n",
    "                    hmedian_ = sorted_[index_]\n",
    "                    print('The median value of' + ' ' + column_title + ' ' + 'is' + ' ' + str(hmedian_))\n",
    "                    keep_going()\n",
    "                else:\n",
    "                    hmedian_ = int(float(sorted_[index_])) + int(float(sorted_[index_ + 1])) / 2\n",
    "                    print('The median value of' + ' ' + column_title + ' ' + 'is' + ' ' + str(hmedian_))\n",
    "                    keep_going()\n",
    "        if stat_selection == 'sd':\n",
    "            if column_title in special_columns:\n",
    "                print('Sorry, that is a date or categorical column so the standard deviation is not computable...')\n",
    "                keep_going()\n",
    "            elif column_title not in special_columns:\n",
    "                data = [float(x) for x in data]\n",
    "                print('The stadard deviation of' + ' ' + column_title + ' ' + 'is' + ' ' + str(stats.stdev(data)))\n",
    "            keep_going()\n",
    "        elif stat_selection == 'hsd':\n",
    "            if column_title in special_columns:\n",
    "                print('Sorry, that is a date or categorical column so the standard deviation is not computable...')\n",
    "                print('')\n",
    "                keep_going()\n",
    "            else:\n",
    "                data = [float(x) for x in data]\n",
    "                x_bar = sum([float(x) for x in data]) / len(data)\n",
    "                var_x = sum([(float(x) - x_bar) ** 2 for x in data]) / len(data)\n",
    "                x_sd = sqrt(var_x)\n",
    "                print('The stadard deviation of' + ' ' + column_title + ' ' + 'is' + ' ' + str(x_sd))\n",
    "                print('')\n",
    "                keep_going()\n",
    "            return None\n",
    "    \n",
    "    #Get column titles\n",
    "    with open (file_path) as file:\n",
    "        reader = csv.reader(file)\n",
    "        column_labels = next(reader)\n",
    "        column_labels = [x.lower() for x in column_labels]\n",
    "        print('\\033[1m' + \"\"\"Columns\"\"\" + '\\033[1m')\n",
    "        print('\\n'.join(column_labels))\n",
    "    while True:\n",
    "        column_name = input('Please input a column name from the list above: ')\n",
    "        column_name = column_name.lower()\n",
    "        if column_name not in column_labels:\n",
    "            print('That column does not exist..')\n",
    "        else:\n",
    "            while True: \n",
    "                correct_column = input('You have selected' + ' ' + column_name + ' ' + 'is that correct?(yes or no): ')\n",
    "                if correct_column.lower() not in yes_no:\n",
    "                            print('Please input yes or no only...')\n",
    "                elif correct_column.lower() == 'no':\n",
    "                    column_select()\n",
    "                elif correct_column.lower() == 'yes':\n",
    "                    with open(file_path) as file_:\n",
    "                        file_.readline()\n",
    "                        data = []\n",
    "                        for row in file_: \n",
    "                            data.append(row.split(',')[column_labels.index('%s' % (column_name))])\n",
    "                    print('')\n",
    "                    while True:\n",
    "                        stat_select = input(\"\"\"Which stat would you like to compute?:                            \n",
    "1. mean\n",
    "2. median\n",
    "3. standard deviation (sd)\n",
    "4. homegrown mean (hmean)\n",
    "5. homegrown median (hmedian)\n",
    "6. homegrown standard deviation (hsd)\n",
    "\n",
    "Please only input mean, median, sd, hmean, hmedian, or hsd only.\"\"\")\n",
    "\n",
    "                        if stat_select not in stat_list:\n",
    "                            print('')\n",
    "                            print('Please input mean, median, sd, hmean, hmedian, or hsd only')\n",
    "                        elif stat_select in stat_list:\n",
    "                            stat(stat_select, data, column_name)"
   ]
  },
  {
   "cell_type": "code",
   "execution_count": 9,
   "metadata": {},
   "outputs": [
    {
     "name": "stdout",
     "output_type": "stream",
     "text": [
      "\u001b[1mColumns\u001b[1m\n",
      "id\n",
      "date\n",
      "averageprice\n",
      "total volume\n",
      "4046\n",
      "4225\n",
      "4770\n",
      "total bags\n",
      "small bags\n",
      "large bags\n",
      "xlarge bags\n",
      "type\n",
      "year\n",
      "region\n"
     ]
    },
    {
     "name": "stdin",
     "output_type": "stream",
     "text": [
      "Please input a column name from the list above:  total volume\n",
      "You have selected total volume is that correct?(yes or no):  yes\n"
     ]
    },
    {
     "name": "stdout",
     "output_type": "stream",
     "text": [
      "\n"
     ]
    },
    {
     "name": "stdin",
     "output_type": "stream",
     "text": [
      "Which stat would you like to compute?:                            \n",
      "1. mean\n",
      "2. median\n",
      "3. standard deviation (sd)\n",
      "4. homegrown mean (hmean)\n",
      "5. homegrown median (hmedian)\n",
      "6. homegrown standard deviation (hsd)\n",
      "\n",
      "Please only input mean, median, sd, hmean, hmedian, or hsd only. sd\n"
     ]
    },
    {
     "name": "stdout",
     "output_type": "stream",
     "text": [
      "The stadard deviation of total volume is 3453545.3553994712\n"
     ]
    },
    {
     "name": "stdin",
     "output_type": "stream",
     "text": [
      "Would you like to start over?(yes or no):  yes\n"
     ]
    },
    {
     "name": "stdout",
     "output_type": "stream",
     "text": [
      "\u001b[1mColumns\u001b[1m\n",
      "id\n",
      "date\n",
      "averageprice\n",
      "total volume\n",
      "4046\n",
      "4225\n",
      "4770\n",
      "total bags\n",
      "small bags\n",
      "large bags\n",
      "xlarge bags\n",
      "type\n",
      "year\n",
      "region\n"
     ]
    },
    {
     "name": "stdin",
     "output_type": "stream",
     "text": [
      "Please input a column name from the list above:  total volume\n",
      "You have selected total volume is that correct?(yes or no):  yes\n"
     ]
    },
    {
     "name": "stdout",
     "output_type": "stream",
     "text": [
      "\n"
     ]
    },
    {
     "name": "stdin",
     "output_type": "stream",
     "text": [
      "Which stat would you like to compute?:                            \n",
      "1. mean\n",
      "2. median\n",
      "3. standard deviation (sd)\n",
      "4. homegrown mean (hmean)\n",
      "5. homegrown median (hmedian)\n",
      "6. homegrown standard deviation (hsd)\n",
      "\n",
      "Please only input mean, median, sd, hmean, hmedian, or hsd only. hsd\n"
     ]
    },
    {
     "name": "stdout",
     "output_type": "stream",
     "text": [
      "The stadard deviation of total volume is 3453450.731237387\n",
      "\n"
     ]
    },
    {
     "name": "stdin",
     "output_type": "stream",
     "text": [
      "Would you like to start over?(yes or no):  no\n"
     ]
    },
    {
     "name": "stdout",
     "output_type": "stream",
     "text": [
      "\n",
      "Thanks, have a nice day!\n"
     ]
    },
    {
     "ename": "SystemExit",
     "evalue": "1",
     "output_type": "error",
     "traceback": [
      "An exception has occurred, use %tb to see the full traceback.\n",
      "\u001b[0;31mSystemExit\u001b[0m\u001b[0;31m:\u001b[0m 1\n"
     ]
    },
    {
     "name": "stderr",
     "output_type": "stream",
     "text": [
      "/anaconda3/lib/python3.7/site-packages/IPython/core/interactiveshell.py:2969: UserWarning: To exit: use 'exit', 'quit', or Ctrl-D.\n",
      "  warn(\"To exit: use 'exit', 'quit', or Ctrl-D.\", stacklevel=1)\n"
     ]
    }
   ],
   "source": [
    "def stat(stat_selection, data, column_title):\n",
    "    if stat_selection == 'mean':\n",
    "        if column_title in special_columns:\n",
    "            df = pd.DataFrame(data, columns = ['%s' %(column_title)])\n",
    "            mean_ = df.groupby(['%s' % column_title])['%s' % column_title].count().mean()\n",
    "            print('That is a date or categorical column so a mean is not available, but the mean value count of' + ' ' + column_title + ' ' + 'is' + ' ' + str(mean_))\n",
    "        elif column_title not in special_columns:\n",
    "            data = [float(x) for x in data]\n",
    "            print('The mean of' + ' ' + column_title + ' ' + 'is' + ' ' + str(stats.mean(data)))\n",
    "        keep_going()\n",
    "    elif stat_selection == 'hmean':\n",
    "        if column_title in special_columns:\n",
    "            print('Sorry there is no homegrown mean for date or categorical columns.')\n",
    "        elif column_title not in special_columns:\n",
    "            sum_ = sum([float(x) for x in data])\n",
    "            hmean_ = sum_ / len(data)\n",
    "            print('The mean of' + ' ' + column_title + ' ' + 'is' + ' ' + str(hmean_))\n",
    "        keep_going()\n",
    "    if stat_selection == 'median':\n",
    "        df = pd.DataFrame(data, columns = ['%s' %(column_title)])\n",
    "        median_ = stats.median(df['%s' %(column_title)])\n",
    "        try:\n",
    "            if column_title in special_columns:\n",
    "                print('The median value of' + ' ' + column_title + ' ' + 'is' + ' ' + str(median_))\n",
    "                keep_going()\n",
    "            elif column_title not in special_columns:\n",
    "                print('The median of' + ' ' + column_title + ' ' + 'is' + ' ' +  str(median_))\n",
    "                keep_going()\n",
    "        except TypeError:\n",
    "            median_ = data.groupby(['%s' % column_title])['%s' % column_title].count().median()\n",
    "            print('The median of' + ' ' + column_title + ' ' + 'is' + ' ' + str(median_))\n",
    "            keep_going()\n",
    "    elif stat_selection == 'hmedian':\n",
    "        sorted_ = sorted(data)\n",
    "        index_ = int((len(data) - 1) / 2)\n",
    "        if column_title in special_columns:\n",
    "            if len(data) % 2 == 0:\n",
    "                hmedian_ = sorted_[index_]\n",
    "                print('The median value of' + ' ' + column_title + ' ' + 'is' + ' ' + str(hmedian_))\n",
    "                keep_going()\n",
    "            else:\n",
    "                hmedian_1 = sorted_[index_] \n",
    "                hmedian_2 = sorted_[index_ + 1]\n",
    "                if hmedian_1 == hmedian_2:\n",
    "                    print('The median value of' + ' ' + column_title + ' ' + 'is' + ' ' + str(hmedian_1))\n",
    "                else:\n",
    "                    print('The median values of' + ' ' + column_title + ' ' + 'are' + ' ' + str(hmedian_1) + ' ' + 'and' + ' ' + str(hmedian_2))\n",
    "                keep_going()\n",
    "        elif column_title not in special_columns:\n",
    "            if len(data) % 2 == 1:\n",
    "                hmedian_ = sorted_[index_]\n",
    "                print('The median value of' + ' ' + column_title + ' ' + 'is' + ' ' + str(hmedian_))\n",
    "                keep_going()\n",
    "            else:\n",
    "                hmedian_ = int(float(sorted_[index_])) + int(float(sorted_[index_ + 1])) / 2\n",
    "                print('The median value of' + ' ' + column_title + ' ' + 'is' + ' ' + str(hmedian_))\n",
    "                keep_going()\n",
    "    if stat_selection == 'sd':\n",
    "        if column_title in special_columns:\n",
    "            print('Sorry, that is a date or categorical column so the standard deviation is not computable...')\n",
    "            keep_going()\n",
    "        elif column_title not in special_columns:\n",
    "            data = [float(x) for x in data]\n",
    "            print('The stadard deviation of' + ' ' + column_title + ' ' + 'is' + ' ' + str(stats.stdev(data)))\n",
    "        keep_going()\n",
    "    elif stat_selection == 'hsd':\n",
    "        if column_title in special_columns:\n",
    "            print('Sorry, that is a date or categorical column so the standard deviation is not computable...')\n",
    "            print('')\n",
    "            keep_going()\n",
    "        else:\n",
    "            data = [float(x) for x in data]\n",
    "            x_bar = sum([float(x) for x in data]) / len(data)\n",
    "            var_x = sum([(float(x) - x_bar) ** 2 for x in data]) / len(data)\n",
    "            x_sd = sqrt(var_x)\n",
    "            print('The stadard deviation of' + ' ' + column_title + ' ' + 'is' + ' ' + str(x_sd))\n",
    "            print('')\n",
    "            keep_going()\n",
    "        return None"
   ]
  }
 ],
 "metadata": {
  "kernelspec": {
   "display_name": "Python 3",
   "language": "python",
   "name": "python3"
  },
  "language_info": {
   "codemirror_mode": {
    "name": "ipython",
    "version": 3
   },
   "file_extension": ".py",
   "mimetype": "text/x-python",
   "name": "python",
   "nbconvert_exporter": "python",
   "pygments_lexer": "ipython3",
   "version": "3.7.0"
  }
 },
 "nbformat": 4,
 "nbformat_minor": 2
}

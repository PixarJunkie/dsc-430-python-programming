{
 "cells": [
  {
   "cell_type": "code",
   "execution_count": 1,
   "metadata": {},
   "outputs": [],
   "source": [
    "#Import packages\n",
    "import pandas as pd \n",
    "import string \n",
    "\n",
    "#Alphabet\n",
    "alphabet = string.ascii_lowercase"
   ]
  },
  {
   "cell_type": "code",
   "execution_count": 7,
   "metadata": {},
   "outputs": [],
   "source": [
    "def last_letter(name):\n",
    "    last_letter = list(name)[-1]"
   ]
  },
  {
   "cell_type": "code",
   "execution_count": 17,
   "metadata": {},
   "outputs": [],
   "source": [
    "#Last letter count function\n",
    "\n",
    "def last_letter_count():\n",
    "    #Create empty dictionaries \n",
    "    boy_dict = {}\n",
    "    girl_dict = {}\n",
    "    \n",
    "    with open('namesBoys.txt') as f_1, open('namesGirls.txt') as f_2: \n",
    "        #for x, y in intertool.izip(f_1, f_2):\n",
    "        boys = [x.strip() for x in f_1]\n",
    "        girls = [y.strip() for y in f_2]\n",
    "        #Get last letter of boy names\n",
    "        for boy in boys:\n",
    "            last_boy = list(boy)[-1]\n",
    "            #If last letter is already in boy_dict, increase current value by 1\n",
    "            if last_boy in boy_dict:\n",
    "                boy_dict[last_boy] += 1\n",
    "            #If last letter is not in boy_dict, create key and set value = 1\n",
    "            else: \n",
    "                boy_dict[last_boy] = 1\n",
    "        #Get last letter of girl names\n",
    "        for girl in girls:\n",
    "            last_girl = list(girl)[-1]\n",
    "            #If last letter is already in girl_dict, increase current value by 1\n",
    "            if last_girl in girl_dict: \n",
    "                girl_dict[last_girl] += 1\n",
    "            #If last letter is not in girl_dict, create key and set value = 1\n",
    "            else:\n",
    "                girl_dict[last_girl] = 1\n",
    "    return boy_dict, girl_dict"
   ]
  },
  {
   "cell_type": "code",
   "execution_count": 15,
   "metadata": {},
   "outputs": [],
   "source": [
    "boy_df = pd.DataFrame(boy_dict, columns = ['letter', 'count'])"
   ]
  },
  {
   "cell_type": "code",
   "execution_count": null,
   "metadata": {},
   "outputs": [],
   "source": []
  }
 ],
 "metadata": {
  "kernelspec": {
   "display_name": "Python 3",
   "language": "python",
   "name": "python3"
  },
  "language_info": {
   "codemirror_mode": {
    "name": "ipython",
    "version": 3
   },
   "file_extension": ".py",
   "mimetype": "text/x-python",
   "name": "python",
   "nbconvert_exporter": "python",
   "pygments_lexer": "ipython3",
   "version": "3.7.0"
  }
 },
 "nbformat": 4,
 "nbformat_minor": 2
}

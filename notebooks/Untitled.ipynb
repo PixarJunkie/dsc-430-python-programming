{
 "cells": [
  {
   "cell_type": "code",
   "execution_count": 2,
   "metadata": {},
   "outputs": [],
   "source": [
    "import math"
   ]
  },
  {
   "cell_type": "code",
   "execution_count": 73,
   "metadata": {},
   "outputs": [],
   "source": [
    "class empty_constructor:\n",
    "    def __init__(self):\n",
    "        pass"
   ]
  },
  {
   "cell_type": "code",
   "execution_count": 93,
   "metadata": {},
   "outputs": [],
   "source": [
    "class ellipse:\n",
    "    \n",
    "    #Ellipse constructor\n",
    "    def __init__(self, major_axis, minor_axis, center = ()):\n",
    "        self.major_axis = major_axis\n",
    "        self.minor_axis = minor_axis\n",
    "        self.center = center\n",
    "        \n",
    "    #Ellipse vertex's\n",
    "    def vertex(self):\n",
    "        self.v1 = self.center[0] + self.major_axis\n",
    "        self.v2 = self.center[0] - self.major_axis\n",
    "        self.v3 = self.center[1] + self.minor_axis\n",
    "        self.v4 = self.center[1] - self.minor_axis\n",
    "    \n",
    "    #Area function\n",
    "    def area(self):\n",
    "        return math.pi * self.major_axis * self.minor_axis\n",
    "    \n",
    "    #Perimeter function\n",
    "    def height(self):\n",
    "        return ((self.major_axis - self.minor_axis)**2) / ((self.major_axis + self.minor_axis)**2)"
   ]
  },
  {
   "cell_type": "code",
   "execution_count": 95,
   "metadata": {},
   "outputs": [],
   "source": [
    "ellipse1 = ellipse(3, 2, (3,1))"
   ]
  },
  {
   "cell_type": "code",
   "execution_count": 76,
   "metadata": {},
   "outputs": [],
   "source": [
    "area = ellipse.area()\n",
    "height = ellipse.height()"
   ]
  },
  {
   "cell_type": "code",
   "execution_count": 97,
   "metadata": {},
   "outputs": [
    {
     "data": {
      "text/plain": [
       "6"
      ]
     },
     "execution_count": 97,
     "metadata": {},
     "output_type": "execute_result"
    }
   ],
   "source": [
    "ellipse1.v1"
   ]
  },
  {
   "cell_type": "code",
   "execution_count": null,
   "metadata": {},
   "outputs": [],
   "source": []
  }
 ],
 "metadata": {
  "kernelspec": {
   "display_name": "Python 3",
   "language": "python",
   "name": "python3"
  },
  "language_info": {
   "codemirror_mode": {
    "name": "ipython",
    "version": 3
   },
   "file_extension": ".py",
   "mimetype": "text/x-python",
   "name": "python",
   "nbconvert_exporter": "python",
   "pygments_lexer": "ipython3",
   "version": "3.7.0"
  }
 },
 "nbformat": 4,
 "nbformat_minor": 2
}

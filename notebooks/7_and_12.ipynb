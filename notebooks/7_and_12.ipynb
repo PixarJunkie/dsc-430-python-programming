{
 "cells": [
  {
   "cell_type": "markdown",
   "metadata": {},
   "source": [
    "Consider this game.  The user begins with an account value of $100.  She may place a bet of an amount of her choosing, but not more than her current balance.  She then rolls two six-sided dice.  Her score is the sum of the faces of the dice.  If she rolls a 7 or a 12 she wins and doubles her bet.  If she does not roll a 7 or 12, she has the option to double her bet and roll a third die.  If all three dice sum to 7 or 12 she wins three times the total value of her bet.\n",
    "Implement this game.  Consider all the ways the user might interact with the system.  Use exception handling when appropriate.  Your program should be robust to all possible user inputs."
   ]
  },
  {
   "cell_type": "code",
   "execution_count": 5,
   "metadata": {},
   "outputs": [],
   "source": [
    "#Import modules \n",
    "import random"
   ]
  },
  {
   "cell_type": "code",
   "execution_count": 6,
   "metadata": {},
   "outputs": [],
   "source": [
    "current_amount = 100\n",
    "yes_no = ['yes', 'no']\n",
    "dice_1 = random.randrange(1,7)\n",
    "dice_2 = random.randrange(1,7)\n",
    "dice_3 = random.randrange(1,7)\n",
    "bet_ = 0"
   ]
  },
  {
   "cell_type": "code",
   "execution_count": 7,
   "metadata": {},
   "outputs": [],
   "source": [
    "def dice_roll():\n",
    "    current_amount = 100\n",
    "    dice_1 = random.randrange(1,7)\n",
    "    dice_2 = random.randrange(1,7)\n",
    "    dice_3 = random.randrange(1,7)\n",
    "    tot_roll = dice_1 + dice_2\n",
    "    print('You rolled a' + ' ' + str(dice_1) + ' ' + 'and' + ' ' + 'a' + ' ' + str(dice_2) + ' ' + 'for a total of' + ' ' + str(tot_roll))\n",
    "    if int(tot_roll) == 7 or int(tot_roll) == 12:\n",
    "        current_amount += 10\n",
    "        print('Congratulations, you won! Your total amount is now' + ' ' + str(current_amount))    \n",
    "    else:\n",
    "        while True: \n",
    "            third_roll = input(\"Sorry, you didn't win, would you like to double your bet and roll a third die?(yes or no)\")\n",
    "            if third_roll.lower() not in yes_no: \n",
    "                print('Please input yes or no only...')\n",
    "            if third_roll.lower() == 'no':\n",
    "                current_amount -= 10\n",
    "                print('You have' + ' ' + str(current_amount) + ' ' + 'left.')\n",
    "                break\n",
    "                #bet()\n",
    "            else:\n",
    "                tot_roll += dice_3\n",
    "                print('Your third dice roll is a' + ' ' + str(dice_3) + 'for a total of' + ' ' + str(tot_roll))\n",
    "                if tot_roll == 7 or tot_roll == 12: \n",
    "                    current_amount += 10\n",
    "                    print('Congratulations, you won! Your total amount is now' + ' ' + str(current_amount))\n",
    "                    break\n",
    "                else:\n",
    "                    current_amount -= 10\n",
    "                    print(\"Sorry you didn't win this time, you lost\" + ' ' + '$' + str(10) + ' ' + 'leaving you with' + ' ' + str(current_amount) + '.')\n",
    "                    break"
   ]
  },
  {
   "cell_type": "code",
   "execution_count": null,
   "metadata": {},
   "outputs": [
    {
     "name": "stdout",
     "output_type": "stream",
     "text": [
      "You rolled a 1 and a 2 for a total of 3\n"
     ]
    },
    {
     "name": "stdin",
     "output_type": "stream",
     "text": [
      "Sorry, you didn't win, would you like to double your bet and roll a third die?(yes or no) yes\n"
     ]
    },
    {
     "name": "stdout",
     "output_type": "stream",
     "text": [
      "Your third dice roll is a 4for a total of 7\n",
      "Congratulations, you won! Your total amount is now 110\n"
     ]
    }
   ],
   "source": [
    "dice_roll()"
   ]
  },
  {
   "cell_type": "code",
   "execution_count": null,
   "metadata": {},
   "outputs": [],
   "source": [
    "def bet_check():\n",
    "    while True:\n",
    "        bet_check = input('You bet' + ' ' + str(bet_) + 'is that correct?(yes or no)')\n",
    "        if bet_check.lower() not in yes_no:\n",
    "            print('Please input yes or no only. You bet' + ' ' + str(bet) + 'is that correct?(yes or no)')\n",
    "        elif bet_check.lower() == 'no':\n",
    "            bet()\n",
    "        else:\n",
    "            break"
   ]
  },
  {
   "cell_type": "code",
   "execution_count": null,
   "metadata": {},
   "outputs": [],
   "source": [
    "def bet():\n",
    "    bet_range = list(range(1, 100))\n",
    "    while True: \n",
    "        try:\n",
    "            bet_ = input('You currently have' + ' ' + '$' + str(current_amount) + '. ' + 'how much would you like to bet? Please only use integers: ')\n",
    "            if int(bet_) not in bet_range: \n",
    "                print('That is not an acceptable betting amount. How much would you like to bet?')\n",
    "            if int(bet_) in bet_range:\n",
    "                bet_ = bet_\n",
    "                bet_check()\n",
    "        except ValueError:\n",
    "            print('Please use integers only...')\n",
    "            continue"
   ]
  },
  {
   "cell_type": "code",
   "execution_count": null,
   "metadata": {},
   "outputs": [],
   "source": [
    "current_amount = 100\n",
    "yes_no = ['yes', 'no']\n",
    "dice_1 = random.randrange(1,7)\n",
    "dice_2 = random.randrange(1,7)\n",
    "dice_3 = random.randrange(1,7)\n",
    "bet_ = 0\n",
    "\n",
    "#Starting message\n",
    "while True: \n",
    "    play_game = input('Would you like to play a game?(yes or no): ')\n",
    "    #Check for a valid response\n",
    "    if play_game.lower() not in yes_no:\n",
    "        print('Please input yes or no only')\n",
    "    #If no, then break\n",
    "    elif play_game.lower() == 'no':\n",
    "        break  \n",
    "    #Otherwise start the game\n",
    "    else: \n",
    "        print(\"\"\"Great! Welcome to the game 7 and 12. The rules are simple... You start with $100. \n",
    "              Each round you may bet up to the amount that you currently have. You will then roll 2 six-sided dice\n",
    "              and add up their total. If you roll a 7 or a 12 you win and you double up. If you do not roll a \n",
    "              7 or a 12, you may choose to double your bet and roll a third die. If the sum of all three dice is 7 or 12\n",
    "              you win. Other than that, you will lose the amount bet.\"\"\")\n",
    "        break\n",
    "\n",
    "bet()"
   ]
  },
  {
   "cell_type": "code",
   "execution_count": null,
   "metadata": {},
   "outputs": [],
   "source": [
    "#Variables\n",
    "starting_amount = 100 \n",
    "current_amount = 100\n",
    "yes_no = ['yes', 'no']\n",
    "bet_range = list(range(1, current_amount))\n",
    "dice_1 = random.randrange(1,7)\n",
    "dice_2 = random.randrange(1,7)\n",
    "dice_3 = random.randrange(1,7)\n",
    "\n",
    "#Starting message\n",
    "while True: \n",
    "    play_game = input('Would you like to play a game?(yes or no): ')\n",
    "    #Check for a valid response\n",
    "    if play_game.lower() not in yes_no:\n",
    "        print('Please input yes or no only')\n",
    "    #If no, then break\n",
    "    elif play_game.lower() == 'no':\n",
    "        break  \n",
    "    #Otherwise start the game\n",
    "    else: \n",
    "        print(\"\"\"Great! Welcome to the game 7 and 12. The rules are simple... You start with $100. \n",
    "              Each round you may bet up to the amount that you currently have. You will then roll 2 six-sided dice\n",
    "              and add up their total. If you roll a 7 or a 12 you win and you double up. If you do not roll a \n",
    "              7 or a 12, you may choose to double your bet and roll a third die. If the sum of all three dice is 7 or 12\n",
    "              you win. Other than that, you will lose the amount bet.\"\"\")\n",
    "        break\n",
    "\n",
    "while True: \n",
    "    bet = int(input('You currently have' + ' ' + '$' + str(current_amount) + '. ' + 'how much would you like to bet? Please only use integers: '))\n",
    "    if bet not in bet_range: \n",
    "        print('That is not an acceptable betting amount. How much would you like to bet?')\n",
    "    if bet in bet_range:\n",
    "        while True:\n",
    "            bet_check = input('You bet' + ' ' + str(bet) + 'is that correct?(yes or no)')\n",
    "            if bet_check.lower() not in yes_no:\n",
    "                print('Please input yes or no only. You bet' + ' ' + str(bet) + 'is that correct?(yes or no)')\n",
    "            elif bet_check.lower() == 'no':\n",
    "                continue\n",
    "            else:\n",
    "                print('You bet' + ' ' + str(bet) + '.' + ' ' + 'Time to roll some dice!')\n",
    "        "
   ]
  },
  {
   "cell_type": "code",
   "execution_count": null,
   "metadata": {},
   "outputs": [],
   "source": []
  }
 ],
 "metadata": {
  "kernelspec": {
   "display_name": "Python 3",
   "language": "python",
   "name": "python3"
  },
  "language_info": {
   "codemirror_mode": {
    "name": "ipython",
    "version": 3
   },
   "file_extension": ".py",
   "mimetype": "text/x-python",
   "name": "python",
   "nbconvert_exporter": "python",
   "pygments_lexer": "ipython3",
   "version": "3.7.0"
  }
 },
 "nbformat": 4,
 "nbformat_minor": 2
}
